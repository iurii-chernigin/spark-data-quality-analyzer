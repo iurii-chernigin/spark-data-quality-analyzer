{
 "cells": [
  {
   "cell_type": "code",
   "execution_count": null,
   "metadata": {},
   "outputs": [],
   "source": [
    "import argparse\n",
    "import os\n",
    "os.environ['SPARK_VERSION'] = '3.1'\n",
    "os.environ['JAVA_HOME'] = '/Library/Java/JavaVirtualMachines/jdk-11.0.12.jdk/Contents/Home'"
   ]
  },
  {
   "cell_type": "code",
   "execution_count": null,
   "metadata": {},
   "outputs": [],
   "source": [
    "import pydeequ\n",
    "from pydeequ.analyzers import *\n",
    "from pyspark.sql import SparkSession\n",
    "from pyspark.sql.functions import countDistinct, count, col, lit"
   ]
  },
  {
   "cell_type": "code",
   "execution_count": null,
   "metadata": {},
   "outputs": [],
   "source": [
    "spark = SparkSession\\\n",
    "    .builder\\\n",
    "    .config(\"spark.jars.packages\", pydeequ.deequ_maven_coord)\\\n",
    "    .config(\"spark.jars.excludes\", pydeequ.f2j_maven_coord)\\\n",
    "    .getOrCreate()"
   ]
  },
  {
   "cell_type": "code",
   "execution_count": null,
   "metadata": {},
   "outputs": [],
   "source": [
    "df = spark.read.parquet('./data/data.parquet')\n",
    "df.printSchema()"
   ]
  },
  {
   "cell_type": "markdown",
   "metadata": {},
   "source": [
    "## PyDeeque Analyzer Research"
   ]
  },
  {
   "cell_type": "code",
   "execution_count": null,
   "metadata": {},
   "outputs": [],
   "source": [
    "analyzer = AnalysisRunner(spark)\\\n",
    "    .onData(df)\\\n",
    "    .addAnalyzer(Size())\\\n",
    "    .addAnalyzer(Completeness('id'))\\\n",
    "    .addAnalyzer(Completeness('vendor_code'))\\\n",
    "    .addAnalyzer(Completeness('name'))\\\n",
    "    .addAnalyzer(Completeness('type'))\\\n",
    "    .addAnalyzer(Completeness('label'))\\\n",
    "    .addAnalyzer(Completeness('price'))\\\n",
    "    .addAnalyzer(Completeness('discount'))\\\n",
    "    .addAnalyzer(Completeness('available_count'))\\\n",
    "    .addAnalyzer(Completeness('preorder_count'))\\\n",
    "    .addAnalyzer(Compliance('discount less than 0', 'discount<0'))\\\n",
    "    .addAnalyzer(Compliance('discount greater than 100', 'discount>100'))\\\n",
    "    .addAnalyzer(Compliance('availiable_count less than 0', 'available_count<0'))\\\n",
    "    .addAnalyzer(Compliance('preorder_count less than 0', 'preorder_count<0'))\\\n",
    "    .addAnalyzer(Distinctness('id'))\\\n",
    "    .run()"
   ]
  },
  {
   "cell_type": "code",
   "execution_count": null,
   "metadata": {},
   "outputs": [],
   "source": [
    "success_metrics_df = AnalyzerContext.successMetricsAsDataFrame(spark, analyzer)"
   ]
  },
  {
   "cell_type": "code",
   "execution_count": null,
   "metadata": {},
   "outputs": [],
   "source": [
    "success_metrics_df.toPandas()"
   ]
  }
 ],
 "metadata": {
  "kernelspec": {
   "display_name": "Python 3.8.9 64-bit",
   "language": "python",
   "name": "python3"
  },
  "language_info": {
   "codemirror_mode": {
    "name": "ipython",
    "version": 3
   },
   "file_extension": ".py",
   "mimetype": "text/x-python",
   "name": "python",
   "nbconvert_exporter": "python",
   "pygments_lexer": "ipython3",
   "version": "3.8.9"
  },
  "orig_nbformat": 4,
  "vscode": {
   "interpreter": {
    "hash": "31f2aee4e71d21fbe5cf8b01ff0e069b9275f58929596ceb00d14d90e3e16cd6"
   }
  }
 },
 "nbformat": 4,
 "nbformat_minor": 2
}
